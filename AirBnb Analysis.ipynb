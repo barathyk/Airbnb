{
 "cells": [
  {
   "cell_type": "markdown",
   "id": "cfce5625",
   "metadata": {},
   "source": [
    "# Viewing the dataset"
   ]
  },
  {
   "cell_type": "code",
   "execution_count": 1,
   "id": "157594da",
   "metadata": {},
   "outputs": [
    {
     "data": {
      "text/html": [
       "<div>\n",
       "<style scoped>\n",
       "    .dataframe tbody tr th:only-of-type {\n",
       "        vertical-align: middle;\n",
       "    }\n",
       "\n",
       "    .dataframe tbody tr th {\n",
       "        vertical-align: top;\n",
       "    }\n",
       "\n",
       "    .dataframe thead th {\n",
       "        text-align: right;\n",
       "    }\n",
       "</style>\n",
       "<table border=\"1\" class=\"dataframe\">\n",
       "  <thead>\n",
       "    <tr style=\"text-align: right;\">\n",
       "      <th></th>\n",
       "      <th>Unnamed: 0</th>\n",
       "      <th>id</th>\n",
       "      <th>url</th>\n",
       "      <th>name</th>\n",
       "      <th>description</th>\n",
       "      <th>host_id</th>\n",
       "      <th>host_name</th>\n",
       "      <th>country</th>\n",
       "      <th>city</th>\n",
       "      <th>price</th>\n",
       "      <th>availability_30</th>\n",
       "      <th>availability_60</th>\n",
       "      <th>availability_90</th>\n",
       "      <th>availability_365</th>\n",
       "      <th>amenities</th>\n",
       "      <th>no_of_reviews</th>\n",
       "      <th>review_score</th>\n",
       "      <th>latitude</th>\n",
       "      <th>longitude</th>\n",
       "    </tr>\n",
       "  </thead>\n",
       "  <tbody>\n",
       "    <tr>\n",
       "      <th>0</th>\n",
       "      <td>0</td>\n",
       "      <td>10006546</td>\n",
       "      <td>https://www.airbnb.com/rooms/10006546</td>\n",
       "      <td>Ribeira Charming Duplex</td>\n",
       "      <td>Fantastic duplex apartment with three bedrooms...</td>\n",
       "      <td>51399391</td>\n",
       "      <td>Ana&amp;Gonçalo</td>\n",
       "      <td>Portugal</td>\n",
       "      <td>Porto</td>\n",
       "      <td>80.0</td>\n",
       "      <td>28</td>\n",
       "      <td>47</td>\n",
       "      <td>74</td>\n",
       "      <td>239</td>\n",
       "      <td>['TV', 'Cable TV', 'Wifi', 'Kitchen', 'Paid pa...</td>\n",
       "      <td>51</td>\n",
       "      <td>9.0</td>\n",
       "      <td>41.141300</td>\n",
       "      <td>-8.613080</td>\n",
       "    </tr>\n",
       "    <tr>\n",
       "      <th>1</th>\n",
       "      <td>1</td>\n",
       "      <td>1001265</td>\n",
       "      <td>https://www.airbnb.com/rooms/1001265</td>\n",
       "      <td>Ocean View Waikiki Marina w/prkg</td>\n",
       "      <td>A short distance from Honolulu's billion dolla...</td>\n",
       "      <td>5448114</td>\n",
       "      <td>David</td>\n",
       "      <td>United States</td>\n",
       "      <td>Oahu</td>\n",
       "      <td>115.0</td>\n",
       "      <td>16</td>\n",
       "      <td>46</td>\n",
       "      <td>76</td>\n",
       "      <td>343</td>\n",
       "      <td>['TV', 'Cable TV', 'Wifi', 'Air conditioning',...</td>\n",
       "      <td>96</td>\n",
       "      <td>9.0</td>\n",
       "      <td>21.286340</td>\n",
       "      <td>-157.839190</td>\n",
       "    </tr>\n",
       "    <tr>\n",
       "      <th>2</th>\n",
       "      <td>2</td>\n",
       "      <td>10021707</td>\n",
       "      <td>https://www.airbnb.com/rooms/10021707</td>\n",
       "      <td>Private Room in Bushwick</td>\n",
       "      <td>Here exists a very cozy room for rent in a sha...</td>\n",
       "      <td>11275734</td>\n",
       "      <td>Josh</td>\n",
       "      <td>United States</td>\n",
       "      <td>New York</td>\n",
       "      <td>40.0</td>\n",
       "      <td>0</td>\n",
       "      <td>0</td>\n",
       "      <td>0</td>\n",
       "      <td>0</td>\n",
       "      <td>['Internet', 'Wifi', 'Air conditioning', 'Kitc...</td>\n",
       "      <td>1</td>\n",
       "      <td>8.0</td>\n",
       "      <td>40.697910</td>\n",
       "      <td>-73.936150</td>\n",
       "    </tr>\n",
       "    <tr>\n",
       "      <th>3</th>\n",
       "      <td>3</td>\n",
       "      <td>1003530</td>\n",
       "      <td>https://www.airbnb.com/rooms/1003530</td>\n",
       "      <td>New York City - Upper West Side Apt</td>\n",
       "      <td>Murphy bed, optional second bedroom available....</td>\n",
       "      <td>454250</td>\n",
       "      <td>Greta</td>\n",
       "      <td>United States</td>\n",
       "      <td>New York</td>\n",
       "      <td>135.0</td>\n",
       "      <td>0</td>\n",
       "      <td>0</td>\n",
       "      <td>0</td>\n",
       "      <td>93</td>\n",
       "      <td>['Internet', 'Wifi', 'Air conditioning', 'Kitc...</td>\n",
       "      <td>70</td>\n",
       "      <td>10.0</td>\n",
       "      <td>40.799620</td>\n",
       "      <td>-73.965230</td>\n",
       "    </tr>\n",
       "    <tr>\n",
       "      <th>4</th>\n",
       "      <td>4</td>\n",
       "      <td>10038496</td>\n",
       "      <td>https://www.airbnb.com/rooms/10038496</td>\n",
       "      <td>Copacabana Apartment Posto 6</td>\n",
       "      <td>The Apartment has a living room, toilet, bedro...</td>\n",
       "      <td>51530266</td>\n",
       "      <td>Ana Valéria</td>\n",
       "      <td>Brazil</td>\n",
       "      <td>Rio De Janeiro</td>\n",
       "      <td>119.0</td>\n",
       "      <td>7</td>\n",
       "      <td>19</td>\n",
       "      <td>33</td>\n",
       "      <td>118</td>\n",
       "      <td>['TV', 'Cable TV', 'Internet', 'Wifi', 'Air co...</td>\n",
       "      <td>70</td>\n",
       "      <td>10.0</td>\n",
       "      <td>-22.984339</td>\n",
       "      <td>-43.190849</td>\n",
       "    </tr>\n",
       "  </tbody>\n",
       "</table>\n",
       "</div>"
      ],
      "text/plain": [
       "   Unnamed: 0        id                                    url  \\\n",
       "0           0  10006546  https://www.airbnb.com/rooms/10006546   \n",
       "1           1   1001265   https://www.airbnb.com/rooms/1001265   \n",
       "2           2  10021707  https://www.airbnb.com/rooms/10021707   \n",
       "3           3   1003530   https://www.airbnb.com/rooms/1003530   \n",
       "4           4  10038496  https://www.airbnb.com/rooms/10038496   \n",
       "\n",
       "                                  name  \\\n",
       "0              Ribeira Charming Duplex   \n",
       "1     Ocean View Waikiki Marina w/prkg   \n",
       "2             Private Room in Bushwick   \n",
       "3  New York City - Upper West Side Apt   \n",
       "4         Copacabana Apartment Posto 6   \n",
       "\n",
       "                                         description   host_id    host_name  \\\n",
       "0  Fantastic duplex apartment with three bedrooms...  51399391  Ana&Gonçalo   \n",
       "1  A short distance from Honolulu's billion dolla...   5448114        David   \n",
       "2  Here exists a very cozy room for rent in a sha...  11275734         Josh   \n",
       "3  Murphy bed, optional second bedroom available....    454250        Greta   \n",
       "4  The Apartment has a living room, toilet, bedro...  51530266  Ana Valéria   \n",
       "\n",
       "         country            city  price  availability_30  availability_60  \\\n",
       "0       Portugal           Porto   80.0               28               47   \n",
       "1  United States            Oahu  115.0               16               46   \n",
       "2  United States        New York   40.0                0                0   \n",
       "3  United States        New York  135.0                0                0   \n",
       "4         Brazil  Rio De Janeiro  119.0                7               19   \n",
       "\n",
       "   availability_90  availability_365  \\\n",
       "0               74               239   \n",
       "1               76               343   \n",
       "2                0                 0   \n",
       "3                0                93   \n",
       "4               33               118   \n",
       "\n",
       "                                           amenities  no_of_reviews  \\\n",
       "0  ['TV', 'Cable TV', 'Wifi', 'Kitchen', 'Paid pa...             51   \n",
       "1  ['TV', 'Cable TV', 'Wifi', 'Air conditioning',...             96   \n",
       "2  ['Internet', 'Wifi', 'Air conditioning', 'Kitc...              1   \n",
       "3  ['Internet', 'Wifi', 'Air conditioning', 'Kitc...             70   \n",
       "4  ['TV', 'Cable TV', 'Internet', 'Wifi', 'Air co...             70   \n",
       "\n",
       "   review_score   latitude   longitude  \n",
       "0           9.0  41.141300   -8.613080  \n",
       "1           9.0  21.286340 -157.839190  \n",
       "2           8.0  40.697910  -73.936150  \n",
       "3          10.0  40.799620  -73.965230  \n",
       "4          10.0 -22.984339  -43.190849  "
      ]
     },
     "execution_count": 1,
     "metadata": {},
     "output_type": "execute_result"
    }
   ],
   "source": [
    "import pandas as pd\n",
    "import seaborn as sn\n",
    "import matplotlib.pyplot as plt\n",
    "\n",
    "\n",
    "df =pd.read_csv(r\"D:\\Bizcrdx\\airbnb_dataset.csv\")\n",
    "df.head()"
   ]
  },
  {
   "cell_type": "markdown",
   "id": "fe5e5695",
   "metadata": {},
   "source": [
    "## Exploratory Data Analysis"
   ]
  },
  {
   "cell_type": "code",
   "execution_count": 2,
   "id": "82145eb0",
   "metadata": {},
   "outputs": [
    {
     "name": "stdout",
     "output_type": "stream",
     "text": [
      "Shape of the Data :(4046, 19)\n"
     ]
    }
   ],
   "source": [
    "# basic info about the dataset\n",
    "\n",
    "print(f\"Shape of the Data :{df.shape}\")"
   ]
  },
  {
   "cell_type": "markdown",
   "id": "92cc2e47",
   "metadata": {},
   "source": [
    "the above dataset has 4046 Rows and 19 Columns"
   ]
  },
  {
   "cell_type": "code",
   "execution_count": 4,
   "id": "a713d5ea",
   "metadata": {},
   "outputs": [
    {
     "name": "stdout",
     "output_type": "stream",
     "text": [
      "Description of the Data :         Unnamed: 0            id       host_id         price  availability_30  \\\n",
      "count  4046.000000  4.046000e+03  4.046000e+03   4046.000000      4046.000000   \n",
      "mean   2022.500000  1.531035e+07  5.737262e+07    224.656204        10.786703   \n",
      "std    1168.123923  9.187859e+06  6.273372e+07    399.019579        10.813590   \n",
      "min       0.000000  1.170800e+04  2.787000e+03      9.000000         0.000000   \n",
      "25%    1011.250000  7.120754e+06  8.539531e+06     68.000000         0.000000   \n",
      "50%    2022.500000  1.592236e+07  3.127648e+07    120.000000         7.000000   \n",
      "75%    3033.750000  2.267065e+07  9.129080e+07    250.000000        20.000000   \n",
      "max    4045.000000  3.283907e+07  2.467295e+08  11681.000000        30.000000   \n",
      "\n",
      "       availability_60  availability_90  availability_365  no_of_reviews  \\\n",
      "count      4046.000000      4046.000000       4046.000000    4046.000000   \n",
      "mean         24.728127        40.649778        171.633465      37.844785   \n",
      "std          21.835960        32.947472        134.425409      54.942929   \n",
      "min           0.000000         0.000000          0.000000       1.000000   \n",
      "25%           0.000000         4.000000         31.000000       4.000000   \n",
      "50%          21.000000        40.000000        169.000000      15.000000   \n",
      "75%          45.000000        71.000000        306.000000      48.750000   \n",
      "max          60.000000        90.000000        365.000000     533.000000   \n",
      "\n",
      "       review_score     latitude    longitude  \n",
      "count   4046.000000  4046.000000  4046.000000  \n",
      "mean       9.308947    22.566210   -10.777632  \n",
      "std        0.925910    27.698992    94.158069  \n",
      "min        2.000000   -34.088290  -159.547450  \n",
      "25%        9.000000    20.875400   -73.907072  \n",
      "50%        9.000000    40.716660    -8.620865  \n",
      "75%       10.000000    41.174988    28.998162  \n",
      "max       10.000000    45.665630   151.338980  \n"
     ]
    }
   ],
   "source": [
    "# numerical description of the dataset\n",
    "\n",
    "print(f\"Description of the Data : {df.describe()}\")"
   ]
  },
  {
   "cell_type": "code",
   "execution_count": 38,
   "id": "d6e30834",
   "metadata": {},
   "outputs": [
    {
     "name": "stdout",
     "output_type": "stream",
     "text": [
      "Data types of the features : Unnamed: 0            int64\n",
      "id                    int64\n",
      "url                  object\n",
      "name                 object\n",
      "description          object\n",
      "host_id               int64\n",
      "host_name            object\n",
      "country              object\n",
      "city                 object\n",
      "price               float64\n",
      "availability_30       int64\n",
      "availability_60       int64\n",
      "availability_90       int64\n",
      "availability_365      int64\n",
      "amenities            object\n",
      "no_of_reviews         int64\n",
      "review_score        float64\n",
      "latitude            float64\n",
      "longitude           float64\n",
      "dtype: object\n"
     ]
    }
   ],
   "source": [
    "print(f'Data types of the features : {df.dtypes}')"
   ]
  },
  {
   "cell_type": "code",
   "execution_count": 36,
   "id": "531cda17",
   "metadata": {},
   "outputs": [
    {
     "name": "stdout",
     "output_type": "stream",
     "text": [
      "No of Null Values in dataset : Unnamed: 0          0\n",
      "id                  0\n",
      "url                 0\n",
      "name                0\n",
      "description         0\n",
      "host_id             0\n",
      "host_name           0\n",
      "country             0\n",
      "city                0\n",
      "price               0\n",
      "availability_30     0\n",
      "availability_60     0\n",
      "availability_90     0\n",
      "availability_365    0\n",
      "amenities           0\n",
      "no_of_reviews       0\n",
      "review_score        0\n",
      "latitude            0\n",
      "longitude           0\n",
      "dtype: int64\n"
     ]
    }
   ],
   "source": [
    "# Checking for null values\n",
    "\n",
    "print(f\"No of Null Values in dataset : {df.isnull().sum()}\")"
   ]
  },
  {
   "cell_type": "markdown",
   "id": "a5e6eef8",
   "metadata": {},
   "source": [
    "'There is no NUll Values in the dataset'"
   ]
  },
  {
   "cell_type": "code",
   "execution_count": 5,
   "id": "d7ed1062",
   "metadata": {},
   "outputs": [
    {
     "name": "stdout",
     "output_type": "stream",
     "text": [
      "Name of the columns : Index(['Unnamed: 0', 'id', 'url', 'name', 'description', 'host_id',\n",
      "       'host_name', 'country', 'city', 'price', 'availability_30',\n",
      "       'availability_60', 'availability_90', 'availability_365', 'amenities',\n",
      "       'no_of_reviews', 'review_score', 'latitude', 'longitude'],\n",
      "      dtype='object')\n"
     ]
    }
   ],
   "source": [
    "# column names in the dataset\n",
    "\n",
    "print(f\"Name of the columns : {df.columns}\")"
   ]
  },
  {
   "cell_type": "code",
   "execution_count": 34,
   "id": "6f9b09ad",
   "metadata": {},
   "outputs": [
    {
     "name": "stdout",
     "output_type": "stream",
     "text": [
      "Unique Values for Name of the saty  : name\n",
      "Elegant Boavista                                                        2\n",
      "Cozy apartment                                                          2\n",
      "Triple room with private bathroom                                       2\n",
      "Feel like home                                                          2\n",
      "2 KİŞİLİK ODA                                                           1\n",
      "                                                                       ..\n",
      "Baixa 24 - Room 3                                                       1\n",
      "Room in Duplex, 5 minutes from beach.                                   1\n",
      "Beautiful Apartment near Bondi Junction                                 1\n",
      "Jolly Bolhão                                                            1\n",
      "Just Steps from the Ocean at Premier Platinum Townhouse Puamana 64-1    1\n",
      "Name: count, Length: 4042, dtype: int64\n"
     ]
    }
   ],
   "source": [
    "print(f\"Unique Values for Name of the saty  : {df.name.value_counts()}\")"
   ]
  },
  {
   "cell_type": "code",
   "execution_count": 9,
   "id": "8d4a7a29",
   "metadata": {},
   "outputs": [
    {
     "name": "stdout",
     "output_type": "stream",
     "text": [
      "Unique Values in Country  : country\n",
      "United States    1061\n",
      "Canada            484\n",
      "Australia         481\n",
      "Spain             470\n",
      "Portugal          460\n",
      "Hong Kong         432\n",
      "Brazil            343\n",
      "Turkey            302\n",
      "China              13\n",
      "Name: count, dtype: int64\n"
     ]
    }
   ],
   "source": [
    "# values \n",
    "\n",
    "print(f\"Unique Values in Country  : {df.country.value_counts()}\")"
   ]
  },
  {
   "cell_type": "code",
   "execution_count": 12,
   "id": "be5d8a29",
   "metadata": {},
   "outputs": [
    {
     "data": {
      "image/png": "[encoded data removed]",
      "text/plain": [
       "<Figure size 640x480 with 1 Axes>"
      ]
     },
     "metadata": {},
     "output_type": "display_data"
    }
   ],
   "source": [
    "#Bar plot to visualize the total counts of each country\n",
    "\n",
    "df['country'].value_counts().plot.bar(color = 'blue')\n",
    "plt.title('Country Wise Distrubution')\n",
    "plt.xlabel('country')\n",
    "plt.ylabel('Count')\n",
    "plt.show()"
   ]
  },
  {
   "cell_type": "code",
   "execution_count": 10,
   "id": "299457b7",
   "metadata": {},
   "outputs": [
    {
     "name": "stdout",
     "output_type": "stream",
     "text": [
      "Unique Values in City  : city\n",
      "New York                 532\n",
      "Montreal                 484\n",
      "Sydney                   481\n",
      "Barcelona                470\n",
      "Porto                    459\n",
      "Hong Kong                445\n",
      "Rio De Janeiro           343\n",
      "Istanbul                 302\n",
      "Oahu                     228\n",
      "Maui                     124\n",
      "The Big Island           121\n",
      "Kauai                     56\n",
      "Other (International)      1\n",
      "Name: count, dtype: int64\n"
     ]
    }
   ],
   "source": [
    "print(f\"Unique Values in City  : {df.city.value_counts()}\")"
   ]
  },
  {
   "cell_type": "code",
   "execution_count": 13,
   "id": "841b9816",
   "metadata": {},
   "outputs": [
    {
     "data": {
      "image/png": "[encoded data removed]",
      "text/plain": [
       "<Figure size 640x480 with 1 Axes>"
      ]
     },
     "metadata": {},
     "output_type": "display_data"
    }
   ],
   "source": [
    "#Bar plot to visualize the total counts of each rating\n",
    "\n",
    "df['city'].value_counts().plot.bar(color = 'red')\n",
    "plt.title('Country Wise Distrubution')\n",
    "plt.xlabel('city')\n",
    "plt.ylabel('Count')\n",
    "plt.show()"
   ]
  },
  {
   "cell_type": "code",
   "execution_count": 15,
   "id": "0bfcffd4",
   "metadata": {},
   "outputs": [
    {
     "name": "stdout",
     "output_type": "stream",
     "text": [
      "Unique Values in Availabilty : availability_30\n",
      "0     1223\n",
      "30     307\n",
      "29     149\n",
      "4      138\n",
      "5      124\n",
      "6      122\n",
      "2      117\n",
      "1      108\n",
      "3      106\n",
      "8      103\n",
      "7      102\n",
      "9       98\n",
      "28      92\n",
      "23      91\n",
      "10      89\n",
      "11      87\n",
      "12      86\n",
      "17      77\n",
      "13      77\n",
      "15      73\n",
      "27      70\n",
      "19      69\n",
      "18      68\n",
      "21      65\n",
      "16      64\n",
      "14      63\n",
      "25      61\n",
      "22      59\n",
      "20      57\n",
      "24      55\n",
      "26      46\n",
      "Name: count, dtype: int64\n"
     ]
    }
   ],
   "source": [
    "print(f\"Unique Values in Availabilty : {df.availability_30.value_counts()}\")"
   ]
  },
  {
   "cell_type": "code",
   "execution_count": 18,
   "id": "8b784726",
   "metadata": {},
   "outputs": [
    {
     "name": "stdout",
     "output_type": "stream",
     "text": [
      "Unique Values in Availabilty : availability_60\n",
      "0     1021\n",
      "60     273\n",
      "59     130\n",
      "58      74\n",
      "53      68\n",
      "      ... \n",
      "56      33\n",
      "33      33\n",
      "2       31\n",
      "50      30\n",
      "43      27\n",
      "Name: count, Length: 61, dtype: int64\n"
     ]
    }
   ],
   "source": [
    "print(f\"Unique Values in Availabilty : {df.availability_60.value_counts()}\")"
   ]
  },
  {
   "cell_type": "code",
   "execution_count": 19,
   "id": "bd20a9ed",
   "metadata": {},
   "outputs": [
    {
     "name": "stdout",
     "output_type": "stream",
     "text": [
      "Unique Values in Availabilty : availability_90\n",
      "0     931\n",
      "90    254\n",
      "89    119\n",
      "88     67\n",
      "83     57\n",
      "     ... \n",
      "34     22\n",
      "48     21\n",
      "33     20\n",
      "12     20\n",
      "2      19\n",
      "Name: count, Length: 91, dtype: int64\n"
     ]
    }
   ],
   "source": [
    "print(f\"Unique Values in Availabilty : {df.availability_90.value_counts()}\")"
   ]
  },
  {
   "cell_type": "code",
   "execution_count": 20,
   "id": "e8fe6db7",
   "metadata": {},
   "outputs": [
    {
     "name": "stdout",
     "output_type": "stream",
     "text": [
      "Unique Values in Availabilty : availability_365\n",
      "0      760\n",
      "365    162\n",
      "364     55\n",
      "90      39\n",
      "179     31\n",
      "      ... \n",
      "55       2\n",
      "115      2\n",
      "195      1\n",
      "121      1\n",
      "24       1\n",
      "Name: count, Length: 366, dtype: int64\n"
     ]
    }
   ],
   "source": [
    "print(f\"Unique Values in Availabilty : {df.availability_365.value_counts()}\")"
   ]
  },
  {
   "cell_type": "code",
   "execution_count": 33,
   "id": "867efac5",
   "metadata": {},
   "outputs": [
    {
     "name": "stdout",
     "output_type": "stream",
     "text": [
      "Reviews for respective Contries :country        no_of_reviews\n",
      "Australia      1                56\n",
      "               2                49\n",
      "               3                38\n",
      "               4                26\n",
      "               6                12\n",
      "                                ..\n",
      "United States  154               1\n",
      "               156               1\n",
      "               157               1\n",
      "               160               1\n",
      "               533               1\n",
      "Name: count, Length: 977, dtype: int64\n"
     ]
    }
   ],
   "source": [
    "print(f\"Reviews for respective Contries :{df.groupby('country')['no_of_reviews'].value_counts()}\")"
   ]
  },
  {
   "cell_type": "code",
   "execution_count": 41,
   "id": "6faa1351",
   "metadata": {},
   "outputs": [
    {
     "name": "stdout",
     "output_type": "stream",
     "text": [
      "Reviews Score for respective Contries :country        name                                               review_score\n",
      "Australia      \"By the Bay\" ideal holiday location                9.0             1\n",
      "               \"Gorgeous and artfully styled oasis ....\"          10.0            1\n",
      "               Ensuite Central and Convenient 1 Bedroom Waterloo  10.0            1\n",
      "               Dee Why beachside retreat                          10.0            1\n",
      "               Delightful Canterbury Home                         10.0            1\n",
      "                                                                                 ..\n",
      "United States  Gorgeous Designer Decorated 2BR Loft               9.0             1\n",
      "               Gorgeous Garden Retreat in trendy, quaint Kaimuki  10.0            1\n",
      "               Gorgeous Hawaiian Views 1 Bedroom Apt              10.0            1\n",
      "               Gorgeous Hawaiiana Home near beach                 10.0            1\n",
      "               近地铁及市中心,干净 NYC 30 min to Manhattan                 10.0            1\n",
      "Name: count, Length: 4046, dtype: int64\n"
     ]
    }
   ],
   "source": [
    "# review scores for the respective stays\n",
    "\n",
    "print(f\"Reviews Score for respective Contries :{df.groupby('country')[['name','review_score']].value_counts()}\")"
   ]
  },
  {
   "cell_type": "code",
   "execution_count": 42,
   "id": "6859c934",
   "metadata": {},
   "outputs": [
    {
     "name": "stdout",
     "output_type": "stream",
     "text": [
      "Collecting folium\n",
      "  Downloading folium-0.16.0-py2.py3-none-any.whl (100 kB)\n",
      "                                              0.0/100.0 kB ? eta -:--:--\n",
      "     ------------                             30.7/100.0 kB ? eta -:--:--\n",
      "     -------------------------------------- 100.0/100.0 kB 1.2 MB/s eta 0:00:00\n",
      "Collecting branca>=0.6.0 (from folium)\n",
      "  Downloading branca-0.7.2-py3-none-any.whl (25 kB)\n",
      "Requirement already satisfied: jinja2>=2.9 in c:\\users\\barathy\\appdata\\local\\programs\\python\\python311\\lib\\site-packages (from folium) (3.1.2)\n",
      "Requirement already satisfied: numpy in c:\\users\\barathy\\appdata\\local\\programs\\python\\python311\\lib\\site-packages (from folium) (1.25.0)\n",
      "Requirement already satisfied: requests in c:\\users\\barathy\\appdata\\local\\programs\\python\\python311\\lib\\site-packages (from folium) (2.31.0)\n",
      "Collecting xyzservices (from folium)\n",
      "  Downloading xyzservices-2024.4.0-py3-none-any.whl (81 kB)\n",
      "                                              0.0/82.0 kB ? eta -:--:--\n",
      "     ---------------------------------------- 82.0/82.0 kB 4.5 MB/s eta 0:00:00\n",
      "Requirement already satisfied: MarkupSafe>=2.0 in c:\\users\\barathy\\appdata\\local\\programs\\python\\python311\\lib\\site-packages (from jinja2>=2.9->folium) (2.1.3)\n",
      "Requirement already satisfied: charset-normalizer<4,>=2 in c:\\users\\barathy\\appdata\\local\\programs\\python\\python311\\lib\\site-packages (from requests->folium) (3.1.0)\n",
      "Requirement already satisfied: idna<4,>=2.5 in c:\\users\\barathy\\appdata\\local\\programs\\python\\python311\\lib\\site-packages (from requests->folium) (3.4)\n",
      "Requirement already satisfied: urllib3<3,>=1.21.1 in c:\\users\\barathy\\appdata\\local\\programs\\python\\python311\\lib\\site-packages (from requests->folium) (1.26.16)\n",
      "Requirement already satisfied: certifi>=2017.4.17 in c:\\users\\barathy\\appdata\\local\\programs\\python\\python311\\lib\\site-packages (from requests->folium) (2023.5.7)\n",
      "Installing collected packages: xyzservices, branca, folium\n",
      "Successfully installed branca-0.7.2 folium-0.16.0 xyzservices-2024.4.0\n",
      "Note: you may need to restart the kernel to use updated packages.\n"
     ]
    },
    {
     "name": "stderr",
     "output_type": "stream",
     "text": [
      "\n",
      "[notice] A new release of pip is available: 23.1.2 -> 24.0\n",
      "[notice] To update, run: python.exe -m pip install --upgrade pip\n"
     ]
    }
   ],
   "source": [
    "!pip install folium"
   ]
  },
  {
   "cell_type": "code",
   "execution_count": 43,
   "id": "e6f12443",
   "metadata": {},
   "outputs": [
    {
     "name": "stdout",
     "output_type": "stream",
     "text": [
      "Collecting streamlit-folium\n",
      "  Downloading streamlit_folium-0.20.0-py3-none-any.whl (326 kB)\n",
      "                                              0.0/326.7 kB ? eta -:--:--\n",
      "     ---                                      30.7/326.7 kB ? eta -:--:--\n",
      "     -----------                          102.4/326.7 kB 980.4 kB/s eta 0:00:01\n",
      "     -----------                          102.4/326.7 kB 980.4 kB/s eta 0:00:01\n",
      "     -------------                        122.9/326.7 kB 599.1 kB/s eta 0:00:01\n",
      "     --------------------------             225.3/326.7 kB 1.1 MB/s eta 0:00:01\n",
      "     --------------------------             225.3/326.7 kB 1.1 MB/s eta 0:00:01\n",
      "     --------------------------             225.3/326.7 kB 1.1 MB/s eta 0:00:01\n",
      "     --------------------------             225.3/326.7 kB 1.1 MB/s eta 0:00:01\n",
      "     ------------------------------------ 326.7/326.7 kB 779.5 kB/s eta 0:00:00\n",
      "Requirement already satisfied: streamlit>=1.13.0 in c:\\users\\barathy\\appdata\\local\\programs\\python\\python311\\lib\\site-packages (from streamlit-folium) (1.25.0)\n",
      "Requirement already satisfied: folium!=0.15.0,>=0.13 in c:\\users\\barathy\\appdata\\local\\programs\\python\\python311\\lib\\site-packages (from streamlit-folium) (0.16.0)\n",
      "Requirement already satisfied: jinja2 in c:\\users\\barathy\\appdata\\local\\programs\\python\\python311\\lib\\site-packages (from streamlit-folium) (3.1.2)\n",
      "Requirement already satisfied: branca in c:\\users\\barathy\\appdata\\local\\programs\\python\\python311\\lib\\site-packages (from streamlit-folium) (0.7.2)\n",
      "Requirement already satisfied: numpy in c:\\users\\barathy\\appdata\\local\\programs\\python\\python311\\lib\\site-packages (from folium!=0.15.0,>=0.13->streamlit-folium) (1.25.0)\n",
      "Requirement already satisfied: requests in c:\\users\\barathy\\appdata\\local\\programs\\python\\python311\\lib\\site-packages (from folium!=0.15.0,>=0.13->streamlit-folium) (2.31.0)\n",
      "Requirement already satisfied: xyzservices in c:\\users\\barathy\\appdata\\local\\programs\\python\\python311\\lib\\site-packages (from folium!=0.15.0,>=0.13->streamlit-folium) (2024.4.0)\n",
      "Requirement already satisfied: MarkupSafe>=2.0 in c:\\users\\barathy\\appdata\\local\\programs\\python\\python311\\lib\\site-packages (from jinja2->streamlit-folium) (2.1.3)\n",
      "Requirement already satisfied: altair<6,>=4.0 in c:\\users\\barathy\\appdata\\local\\programs\\python\\python311\\lib\\site-packages (from streamlit>=1.13.0->streamlit-folium) (5.0.1)\n",
      "Requirement already satisfied: blinker<2,>=1.0.0 in c:\\users\\barathy\\appdata\\local\\programs\\python\\python311\\lib\\site-packages (from streamlit>=1.13.0->streamlit-folium) (1.6.2)\n",
      "Requirement already satisfied: cachetools<6,>=4.0 in c:\\users\\barathy\\appdata\\local\\programs\\python\\python311\\lib\\site-packages (from streamlit>=1.13.0->streamlit-folium) (5.3.1)\n",
      "Requirement already satisfied: click<9,>=7.0 in c:\\users\\barathy\\appdata\\local\\programs\\python\\python311\\lib\\site-packages (from streamlit>=1.13.0->streamlit-folium) (8.1.3)\n",
      "Requirement already satisfied: importlib-metadata<7,>=1.4 in c:\\users\\barathy\\appdata\\local\\programs\\python\\python311\\lib\\site-packages (from streamlit>=1.13.0->streamlit-folium) (6.7.0)\n",
      "Requirement already satisfied: packaging<24,>=16.8 in c:\\users\\barathy\\appdata\\local\\programs\\python\\python311\\lib\\site-packages (from streamlit>=1.13.0->streamlit-folium) (23.1)\n",
      "Requirement already satisfied: pandas<3,>=1.3.0 in c:\\users\\barathy\\appdata\\local\\programs\\python\\python311\\lib\\site-packages (from streamlit>=1.13.0->streamlit-folium) (2.0.2)\n",
      "Requirement already satisfied: pillow<10,>=7.1.0 in c:\\users\\barathy\\appdata\\local\\programs\\python\\python311\\lib\\site-packages (from streamlit>=1.13.0->streamlit-folium) (9.5.0)\n",
      "Requirement already satisfied: protobuf<5,>=3.20 in c:\\users\\barathy\\appdata\\local\\programs\\python\\python311\\lib\\site-packages (from streamlit>=1.13.0->streamlit-folium) (3.20.3)\n",
      "Requirement already satisfied: pyarrow>=6.0 in c:\\users\\barathy\\appdata\\local\\programs\\python\\python311\\lib\\site-packages (from streamlit>=1.13.0->streamlit-folium) (12.0.1)\n",
      "Requirement already satisfied: pympler<2,>=0.9 in c:\\users\\barathy\\appdata\\local\\programs\\python\\python311\\lib\\site-packages (from streamlit>=1.13.0->streamlit-folium) (1.0.1)\n",
      "Requirement already satisfied: python-dateutil<3,>=2.7.3 in c:\\users\\barathy\\appdata\\local\\programs\\python\\python311\\lib\\site-packages (from streamlit>=1.13.0->streamlit-folium) (2.8.2)\n",
      "Requirement already satisfied: rich<14,>=10.14.0 in c:\\users\\barathy\\appdata\\local\\programs\\python\\python311\\lib\\site-packages (from streamlit>=1.13.0->streamlit-folium) (13.4.2)\n",
      "Requirement already satisfied: tenacity<9,>=8.1.0 in c:\\users\\barathy\\appdata\\local\\programs\\python\\python311\\lib\\site-packages (from streamlit>=1.13.0->streamlit-folium) (8.2.2)\n",
      "Requirement already satisfied: toml<2,>=0.10.1 in c:\\users\\barathy\\appdata\\local\\programs\\python\\python311\\lib\\site-packages (from streamlit>=1.13.0->streamlit-folium) (0.10.2)\n",
      "Requirement already satisfied: typing-extensions<5,>=4.1.0 in c:\\users\\barathy\\appdata\\local\\programs\\python\\python311\\lib\\site-packages (from streamlit>=1.13.0->streamlit-folium) (4.7.1)\n",
      "Requirement already satisfied: tzlocal<5,>=1.1 in c:\\users\\barathy\\appdata\\local\\programs\\python\\python311\\lib\\site-packages (from streamlit>=1.13.0->streamlit-folium) (4.3.1)\n",
      "Requirement already satisfied: validators<1,>=0.2 in c:\\users\\barathy\\appdata\\local\\programs\\python\\python311\\lib\\site-packages (from streamlit>=1.13.0->streamlit-folium) (0.20.0)\n",
      "Requirement already satisfied: gitpython!=3.1.19,<4,>=3.0.7 in c:\\users\\barathy\\appdata\\local\\programs\\python\\python311\\lib\\site-packages (from streamlit>=1.13.0->streamlit-folium) (3.1.32)\n",
      "Requirement already satisfied: pydeck<1,>=0.8 in c:\\users\\barathy\\appdata\\local\\programs\\python\\python311\\lib\\site-packages (from streamlit>=1.13.0->streamlit-folium) (0.8.0)\n",
      "Requirement already satisfied: tornado<7,>=6.0.3 in c:\\users\\barathy\\appdata\\local\\programs\\python\\python311\\lib\\site-packages (from streamlit>=1.13.0->streamlit-folium) (6.3.2)\n",
      "Requirement already satisfied: watchdog>=2.1.5 in c:\\users\\barathy\\appdata\\local\\programs\\python\\python311\\lib\\site-packages (from streamlit>=1.13.0->streamlit-folium) (3.0.0)\n",
      "Requirement already satisfied: jsonschema>=3.0 in c:\\users\\barathy\\appdata\\local\\programs\\python\\python311\\lib\\site-packages (from altair<6,>=4.0->streamlit>=1.13.0->streamlit-folium) (4.17.3)\n",
      "Requirement already satisfied: toolz in c:\\users\\barathy\\appdata\\local\\programs\\python\\python311\\lib\\site-packages (from altair<6,>=4.0->streamlit>=1.13.0->streamlit-folium) (0.12.0)\n",
      "Requirement already satisfied: colorama in c:\\users\\barathy\\appdata\\local\\programs\\python\\python311\\lib\\site-packages (from click<9,>=7.0->streamlit>=1.13.0->streamlit-folium) (0.4.6)\n",
      "Requirement already satisfied: gitdb<5,>=4.0.1 in c:\\users\\barathy\\appdata\\local\\programs\\python\\python311\\lib\\site-packages (from gitpython!=3.1.19,<4,>=3.0.7->streamlit>=1.13.0->streamlit-folium) (4.0.10)\n",
      "Requirement already satisfied: zipp>=0.5 in c:\\users\\barathy\\appdata\\local\\programs\\python\\python311\\lib\\site-packages (from importlib-metadata<7,>=1.4->streamlit>=1.13.0->streamlit-folium) (3.15.0)\n",
      "Requirement already satisfied: pytz>=2020.1 in c:\\users\\barathy\\appdata\\local\\programs\\python\\python311\\lib\\site-packages (from pandas<3,>=1.3.0->streamlit>=1.13.0->streamlit-folium) (2023.3)\n",
      "Requirement already satisfied: tzdata>=2022.1 in c:\\users\\barathy\\appdata\\local\\programs\\python\\python311\\lib\\site-packages (from pandas<3,>=1.3.0->streamlit>=1.13.0->streamlit-folium) (2022.7)\n",
      "Requirement already satisfied: six>=1.5 in c:\\users\\barathy\\appdata\\local\\programs\\python\\python311\\lib\\site-packages (from python-dateutil<3,>=2.7.3->streamlit>=1.13.0->streamlit-folium) (1.16.0)\n",
      "Requirement already satisfied: charset-normalizer<4,>=2 in c:\\users\\barathy\\appdata\\local\\programs\\python\\python311\\lib\\site-packages (from requests->folium!=0.15.0,>=0.13->streamlit-folium) (3.1.0)\n",
      "Requirement already satisfied: idna<4,>=2.5 in c:\\users\\barathy\\appdata\\local\\programs\\python\\python311\\lib\\site-packages (from requests->folium!=0.15.0,>=0.13->streamlit-folium) (3.4)\n",
      "Requirement already satisfied: urllib3<3,>=1.21.1 in c:\\users\\barathy\\appdata\\local\\programs\\python\\python311\\lib\\site-packages (from requests->folium!=0.15.0,>=0.13->streamlit-folium) (1.26.16)\n",
      "Requirement already satisfied: certifi>=2017.4.17 in c:\\users\\barathy\\appdata\\local\\programs\\python\\python311\\lib\\site-packages (from requests->folium!=0.15.0,>=0.13->streamlit-folium) (2023.5.7)\n",
      "Requirement already satisfied: markdown-it-py>=2.2.0 in c:\\users\\barathy\\appdata\\local\\programs\\python\\python311\\lib\\site-packages (from rich<14,>=10.14.0->streamlit>=1.13.0->streamlit-folium) (3.0.0)\n",
      "Requirement already satisfied: pygments<3.0.0,>=2.13.0 in c:\\users\\barathy\\appdata\\local\\programs\\python\\python311\\lib\\site-packages (from rich<14,>=10.14.0->streamlit>=1.13.0->streamlit-folium) (2.15.1)\n",
      "Requirement already satisfied: pytz-deprecation-shim in c:\\users\\barathy\\appdata\\local\\programs\\python\\python311\\lib\\site-packages (from tzlocal<5,>=1.1->streamlit>=1.13.0->streamlit-folium) (0.1.0.post0)\n",
      "Requirement already satisfied: decorator>=3.4.0 in c:\\users\\barathy\\appdata\\local\\programs\\python\\python311\\lib\\site-packages (from validators<1,>=0.2->streamlit>=1.13.0->streamlit-folium) (5.1.1)\n",
      "Requirement already satisfied: smmap<6,>=3.0.1 in c:\\users\\barathy\\appdata\\local\\programs\\python\\python311\\lib\\site-packages (from gitdb<5,>=4.0.1->gitpython!=3.1.19,<4,>=3.0.7->streamlit>=1.13.0->streamlit-folium) (5.0.0)\n",
      "Requirement already satisfied: attrs>=17.4.0 in c:\\users\\barathy\\appdata\\local\\programs\\python\\python311\\lib\\site-packages (from jsonschema>=3.0->altair<6,>=4.0->streamlit>=1.13.0->streamlit-folium) (23.1.0)\n",
      "Requirement already satisfied: pyrsistent!=0.17.0,!=0.17.1,!=0.17.2,>=0.14.0 in c:\\users\\barathy\\appdata\\local\\programs\\python\\python311\\lib\\site-packages (from jsonschema>=3.0->altair<6,>=4.0->streamlit>=1.13.0->streamlit-folium) (0.19.3)\n",
      "Requirement already satisfied: mdurl~=0.1 in c:\\users\\barathy\\appdata\\local\\programs\\python\\python311\\lib\\site-packages (from markdown-it-py>=2.2.0->rich<14,>=10.14.0->streamlit>=1.13.0->streamlit-folium) (0.1.2)\n",
      "Installing collected packages: streamlit-folium\n",
      "Successfully installed streamlit-folium-0.20.0\n"
     ]
    },
    {
     "name": "stderr",
     "output_type": "stream",
     "text": [
      "\n",
      "[notice] A new release of pip is available: 23.1.2 -> 24.0\n",
      "[notice] To update, run: python.exe -m pip install --upgrade pip\n"
     ]
    }
   ],
   "source": [
    "!pip install streamlit-folium"
   ]
  },
  {
   "cell_type": "code",
   "execution_count": null,
   "id": "a747fa14",
   "metadata": {},
   "outputs": [],
   "source": []
  }
 ],
 "metadata": {
  "kernelspec": {
   "display_name": "Python 3 (ipykernel)",
   "language": "python",
   "name": "python3"
  },
  "language_info": {
   "codemirror_mode": {
    "name": "ipython",
    "version": 3
   },
   "file_extension": ".py",
   "mimetype": "text/x-python",
   "name": "python",
   "nbconvert_exporter": "python",
   "pygments_lexer": "ipython3",
   "version": "3.11.4"
  }
 },
 "nbformat": 4,
 "nbformat_minor": 5
}
